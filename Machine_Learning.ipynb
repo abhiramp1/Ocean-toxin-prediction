{
 "cells": [
  {
   "cell_type": "markdown",
   "metadata": {},
   "source": [
    "## Machine Learning"
   ]
  },
  {
   "cell_type": "code",
   "execution_count": 1,
   "metadata": {},
   "outputs": [],
   "source": [
    "import pandas as pd\n",
    "import numpy as np\n",
    "import matplotlib.pyplot as plt\n",
    "import seaborn as sns\n",
    "%matplotlib inline\n",
    "plt.style.use('fivethirtyeight')"
   ]
  },
  {
   "cell_type": "code",
   "execution_count": 2,
   "metadata": {},
   "outputs": [
    {
     "data": {
      "text/html": [
       "<div>\n",
       "<style scoped>\n",
       "    .dataframe tbody tr th:only-of-type {\n",
       "        vertical-align: middle;\n",
       "    }\n",
       "\n",
       "    .dataframe tbody tr th {\n",
       "        vertical-align: top;\n",
       "    }\n",
       "\n",
       "    .dataframe thead th {\n",
       "        text-align: right;\n",
       "    }\n",
       "</style>\n",
       "<table border=\"1\" class=\"dataframe\">\n",
       "  <thead>\n",
       "    <tr style=\"text-align: right;\">\n",
       "      <th></th>\n",
       "      <th>Akashiwo sanguinea (cells/L)</th>\n",
       "      <th>Alexandrium spp. (cells/L)</th>\n",
       "      <th>Ammonia (uM)</th>\n",
       "      <th>Chlorophyll (mg/m3)</th>\n",
       "      <th>Dinophysis spp. (cells/L)</th>\n",
       "      <th>Domoic Acid (ng/mL)</th>\n",
       "      <th>Lingulodinium polyedrum (cells/L)</th>\n",
       "      <th>Nitrate (uM)</th>\n",
       "      <th>Nitrite (uM)</th>\n",
       "      <th>Phosphate (uM)</th>\n",
       "      <th>Prorocentrum spp. (cells/L)</th>\n",
       "      <th>Pseudo-nitzschia delicatissima group (cells/L)</th>\n",
       "      <th>Pseudo-nitzschia seriata group (cells/L)</th>\n",
       "      <th>Silicate (uM)</th>\n",
       "      <th>Water Temperature (C)</th>\n",
       "      <th>date</th>\n",
       "      <th>Upwelling Index</th>\n",
       "      <th>ONI</th>\n",
       "    </tr>\n",
       "  </thead>\n",
       "  <tbody>\n",
       "    <tr>\n",
       "      <th>0</th>\n",
       "      <td>0.000000</td>\n",
       "      <td>0.00000</td>\n",
       "      <td>0.470000</td>\n",
       "      <td>8.17</td>\n",
       "      <td>0.000000</td>\n",
       "      <td>0.000</td>\n",
       "      <td>0.000000</td>\n",
       "      <td>7.940000</td>\n",
       "      <td>0.260000</td>\n",
       "      <td>0.750000</td>\n",
       "      <td>0.000000</td>\n",
       "      <td>24550.000000</td>\n",
       "      <td>357041.0</td>\n",
       "      <td>16.250000</td>\n",
       "      <td>11.7</td>\n",
       "      <td>2013-05-24</td>\n",
       "      <td>216.0</td>\n",
       "      <td>-0.3</td>\n",
       "    </tr>\n",
       "    <tr>\n",
       "      <th>1</th>\n",
       "      <td>0.000000</td>\n",
       "      <td>0.00000</td>\n",
       "      <td>11.545000</td>\n",
       "      <td>1.57</td>\n",
       "      <td>8353.000000</td>\n",
       "      <td>0.000</td>\n",
       "      <td>0.000000</td>\n",
       "      <td>0.975000</td>\n",
       "      <td>0.150000</td>\n",
       "      <td>1.035000</td>\n",
       "      <td>0.000000</td>\n",
       "      <td>232.000000</td>\n",
       "      <td>2320.0</td>\n",
       "      <td>7.195000</td>\n",
       "      <td>15.0</td>\n",
       "      <td>2011-11-21</td>\n",
       "      <td>6.5</td>\n",
       "      <td>-1.1</td>\n",
       "    </tr>\n",
       "    <tr>\n",
       "      <th>2</th>\n",
       "      <td>937.241026</td>\n",
       "      <td>280.18417</td>\n",
       "      <td>6.191939</td>\n",
       "      <td>3.59</td>\n",
       "      <td>217.504717</td>\n",
       "      <td>0.000</td>\n",
       "      <td>968.184615</td>\n",
       "      <td>3.484584</td>\n",
       "      <td>0.417262</td>\n",
       "      <td>0.703519</td>\n",
       "      <td>4155.671795</td>\n",
       "      <td>8530.082051</td>\n",
       "      <td>2509.0</td>\n",
       "      <td>7.958344</td>\n",
       "      <td>15.7</td>\n",
       "      <td>2016-01-04</td>\n",
       "      <td>-5.0</td>\n",
       "      <td>2.5</td>\n",
       "    </tr>\n",
       "    <tr>\n",
       "      <th>3</th>\n",
       "      <td>0.000000</td>\n",
       "      <td>0.00000</td>\n",
       "      <td>3.120000</td>\n",
       "      <td>2.79</td>\n",
       "      <td>0.000000</td>\n",
       "      <td>0.000</td>\n",
       "      <td>0.000000</td>\n",
       "      <td>0.510000</td>\n",
       "      <td>0.337276</td>\n",
       "      <td>0.270000</td>\n",
       "      <td>0.000000</td>\n",
       "      <td>46778.000000</td>\n",
       "      <td>33784.0</td>\n",
       "      <td>1.590000</td>\n",
       "      <td>16.2</td>\n",
       "      <td>2016-03-28</td>\n",
       "      <td>318.0</td>\n",
       "      <td>1.7</td>\n",
       "    </tr>\n",
       "    <tr>\n",
       "      <th>4</th>\n",
       "      <td>400.000000</td>\n",
       "      <td>0.00000</td>\n",
       "      <td>0.230000</td>\n",
       "      <td>11.08</td>\n",
       "      <td>1200.000000</td>\n",
       "      <td>0.044</td>\n",
       "      <td>201200.000000</td>\n",
       "      <td>0.460000</td>\n",
       "      <td>0.040000</td>\n",
       "      <td>0.370000</td>\n",
       "      <td>30400.000000</td>\n",
       "      <td>10400.000000</td>\n",
       "      <td>1200.0</td>\n",
       "      <td>5.900000</td>\n",
       "      <td>16.9</td>\n",
       "      <td>2010-05-24</td>\n",
       "      <td>82.0</td>\n",
       "      <td>-0.1</td>\n",
       "    </tr>\n",
       "  </tbody>\n",
       "</table>\n",
       "</div>"
      ],
      "text/plain": [
       "   Akashiwo sanguinea (cells/L)  Alexandrium spp. (cells/L)  Ammonia (uM)  \\\n",
       "0                      0.000000                     0.00000      0.470000   \n",
       "1                      0.000000                     0.00000     11.545000   \n",
       "2                    937.241026                   280.18417      6.191939   \n",
       "3                      0.000000                     0.00000      3.120000   \n",
       "4                    400.000000                     0.00000      0.230000   \n",
       "\n",
       "   Chlorophyll (mg/m3)  Dinophysis spp. (cells/L)  Domoic Acid (ng/mL)  \\\n",
       "0                 8.17                   0.000000                0.000   \n",
       "1                 1.57                8353.000000                0.000   \n",
       "2                 3.59                 217.504717                0.000   \n",
       "3                 2.79                   0.000000                0.000   \n",
       "4                11.08                1200.000000                0.044   \n",
       "\n",
       "   Lingulodinium polyedrum (cells/L)  Nitrate (uM)  Nitrite (uM)  \\\n",
       "0                           0.000000      7.940000      0.260000   \n",
       "1                           0.000000      0.975000      0.150000   \n",
       "2                         968.184615      3.484584      0.417262   \n",
       "3                           0.000000      0.510000      0.337276   \n",
       "4                      201200.000000      0.460000      0.040000   \n",
       "\n",
       "   Phosphate (uM)  Prorocentrum spp. (cells/L)  \\\n",
       "0        0.750000                     0.000000   \n",
       "1        1.035000                     0.000000   \n",
       "2        0.703519                  4155.671795   \n",
       "3        0.270000                     0.000000   \n",
       "4        0.370000                 30400.000000   \n",
       "\n",
       "   Pseudo-nitzschia delicatissima group (cells/L)  \\\n",
       "0                                    24550.000000   \n",
       "1                                      232.000000   \n",
       "2                                     8530.082051   \n",
       "3                                    46778.000000   \n",
       "4                                    10400.000000   \n",
       "\n",
       "   Pseudo-nitzschia seriata group (cells/L)  Silicate (uM)  \\\n",
       "0                                  357041.0      16.250000   \n",
       "1                                    2320.0       7.195000   \n",
       "2                                    2509.0       7.958344   \n",
       "3                                   33784.0       1.590000   \n",
       "4                                    1200.0       5.900000   \n",
       "\n",
       "   Water Temperature (C)        date  Upwelling Index  ONI  \n",
       "0                   11.7  2013-05-24            216.0 -0.3  \n",
       "1                   15.0  2011-11-21              6.5 -1.1  \n",
       "2                   15.7  2016-01-04             -5.0  2.5  \n",
       "3                   16.2  2016-03-28            318.0  1.7  \n",
       "4                   16.9  2010-05-24             82.0 -0.1  "
      ]
     },
     "execution_count": 2,
     "metadata": {},
     "output_type": "execute_result"
    }
   ],
   "source": [
    "#Read clean data\n",
    "clean_data = pd.read_csv(\"clean_data.csv\")\n",
    "#Shuffle rows\n",
    "clean_data = clean_data.sample(frac=1, random_state=42).reset_index(drop=True)\n",
    "clean_data.head()"
   ]
  },
  {
   "cell_type": "markdown",
   "metadata": {},
   "source": [
    "### 1. Preprocessing"
   ]
  },
  {
   "cell_type": "code",
   "execution_count": 3,
   "metadata": {},
   "outputs": [],
   "source": [
    "#Extract, transform dependent variable\n",
    "target_data = (clean_data['Domoic Acid (ng/mL)'] > 0.5).astype(int)\n",
    "#Extract the concentration for later use\n",
    "domoic_acid = clean_data['Domoic Acid (ng/mL)']\n",
    "clean_data = clean_data.drop('Domoic Acid (ng/mL)', axis = 1)"
   ]
  },
  {
   "cell_type": "markdown",
   "metadata": {},
   "source": [
    "From EDA, we observed seasonal differences in risk of toxic events. Let's convert the dates into seasons. We define March-May as spring, June-August as summer, September-November as fall, and December to Feburary as winter."
   ]
  },
  {
   "cell_type": "code",
   "execution_count": 4,
   "metadata": {},
   "outputs": [],
   "source": [
    "#Convert the dates into seasons\n",
    "months = range(1, 13)\n",
    "seasons = ['winter']*2+['spring']*3+['summer']*3+['fall']*3+['winter']\n",
    "season_dict = dict(zip(months, seasons))\n",
    "clean_data['date'] = pd.to_datetime(clean_data['date'])\n",
    "clean_data['month'] = clean_data['date'].dt.month\n",
    "clean_data['season'] = clean_data['month'].map(season_dict)\n",
    "season_df = pd.get_dummies(clean_data['season'], drop_first=True)\n",
    "clean_data = clean_data.drop(['date', 'month', 'season'], axis = 1)"
   ]
  },
  {
   "cell_type": "markdown",
   "metadata": {},
   "source": [
    "From EDA, we observed that the chemical and biological variables had skewed distribution. Log-transformation would make their distribution closer to normal. This would help models that use distances in their calculation."
   ]
  },
  {
   "cell_type": "code",
   "execution_count": 5,
   "metadata": {},
   "outputs": [],
   "source": [
    "#Log transform chemical and\n",
    "cols = ['Chlorophyll (mg/m3)', 'Ammonia (uM)', 'Nitrate (uM)', 'Nitrite (uM)', 'Phosphate (uM)', 'Silicate (uM)']\n",
    "for col in cols:\n",
    "    clean_data[col] = np.log(clean_data[col]+0.01)\n",
    "cols = ['Akashiwo sanguinea (cells/L)', 'Alexandrium spp. (cells/L)', 'Dinophysis spp. (cells/L)',\\\n",
    "        'Lingulodinium polyedrum (cells/L)', 'Prorocentrum spp. (cells/L)', \\\n",
    "        'Pseudo-nitzschia delicatissima group (cells/L)', 'Pseudo-nitzschia seriata group (cells/L)']\n",
    "for col in cols:\n",
    "    clean_data[col] = np.log(clean_data[col]+1)"
   ]
  },
  {
   "cell_type": "markdown",
   "metadata": {},
   "source": [
    "Different columns had different scales, transforming the data so that different features have similar scale would also help models that use distances in their calculation. Though this step is not required for models such as decision trees, it wouldn't hurt either."
   ]
  },
  {
   "cell_type": "code",
   "execution_count": 6,
   "metadata": {},
   "outputs": [
    {
     "data": {
      "text/html": [
       "<div>\n",
       "<style scoped>\n",
       "    .dataframe tbody tr th:only-of-type {\n",
       "        vertical-align: middle;\n",
       "    }\n",
       "\n",
       "    .dataframe tbody tr th {\n",
       "        vertical-align: top;\n",
       "    }\n",
       "\n",
       "    .dataframe thead th {\n",
       "        text-align: right;\n",
       "    }\n",
       "</style>\n",
       "<table border=\"1\" class=\"dataframe\">\n",
       "  <thead>\n",
       "    <tr style=\"text-align: right;\">\n",
       "      <th></th>\n",
       "      <th>Akashiwo sanguinea (cells/L)</th>\n",
       "      <th>Alexandrium spp. (cells/L)</th>\n",
       "      <th>Ammonia (uM)</th>\n",
       "      <th>Chlorophyll (mg/m3)</th>\n",
       "      <th>Dinophysis spp. (cells/L)</th>\n",
       "      <th>Lingulodinium polyedrum (cells/L)</th>\n",
       "      <th>Nitrate (uM)</th>\n",
       "      <th>Nitrite (uM)</th>\n",
       "      <th>Phosphate (uM)</th>\n",
       "      <th>Prorocentrum spp. (cells/L)</th>\n",
       "      <th>Pseudo-nitzschia delicatissima group (cells/L)</th>\n",
       "      <th>Pseudo-nitzschia seriata group (cells/L)</th>\n",
       "      <th>Silicate (uM)</th>\n",
       "      <th>Water Temperature (C)</th>\n",
       "      <th>Upwelling Index</th>\n",
       "      <th>ONI</th>\n",
       "      <th>spring</th>\n",
       "      <th>summer</th>\n",
       "      <th>winter</th>\n",
       "    </tr>\n",
       "  </thead>\n",
       "  <tbody>\n",
       "    <tr>\n",
       "      <th>count</th>\n",
       "      <td>2.750000e+03</td>\n",
       "      <td>2.750000e+03</td>\n",
       "      <td>2.750000e+03</td>\n",
       "      <td>2.750000e+03</td>\n",
       "      <td>2.750000e+03</td>\n",
       "      <td>2.750000e+03</td>\n",
       "      <td>2.750000e+03</td>\n",
       "      <td>2.750000e+03</td>\n",
       "      <td>2.750000e+03</td>\n",
       "      <td>2.750000e+03</td>\n",
       "      <td>2.750000e+03</td>\n",
       "      <td>2.750000e+03</td>\n",
       "      <td>2.750000e+03</td>\n",
       "      <td>2.750000e+03</td>\n",
       "      <td>2.750000e+03</td>\n",
       "      <td>2.750000e+03</td>\n",
       "      <td>2750.000000</td>\n",
       "      <td>2750.00000</td>\n",
       "      <td>2750.000000</td>\n",
       "    </tr>\n",
       "    <tr>\n",
       "      <th>mean</th>\n",
       "      <td>-3.324210e-16</td>\n",
       "      <td>-1.849026e-17</td>\n",
       "      <td>-6.467554e-17</td>\n",
       "      <td>-1.177240e-16</td>\n",
       "      <td>-5.773160e-16</td>\n",
       "      <td>1.503444e-16</td>\n",
       "      <td>-2.357710e-17</td>\n",
       "      <td>-1.211152e-17</td>\n",
       "      <td>2.769502e-17</td>\n",
       "      <td>1.099726e-16</td>\n",
       "      <td>-3.936245e-17</td>\n",
       "      <td>-1.707725e-17</td>\n",
       "      <td>9.002899e-17</td>\n",
       "      <td>-7.056174e-16</td>\n",
       "      <td>6.768323e-17</td>\n",
       "      <td>1.462668e-16</td>\n",
       "      <td>0.246545</td>\n",
       "      <td>0.25200</td>\n",
       "      <td>0.238182</td>\n",
       "    </tr>\n",
       "    <tr>\n",
       "      <th>std</th>\n",
       "      <td>1.000182e+00</td>\n",
       "      <td>1.000182e+00</td>\n",
       "      <td>1.000182e+00</td>\n",
       "      <td>1.000182e+00</td>\n",
       "      <td>1.000182e+00</td>\n",
       "      <td>1.000182e+00</td>\n",
       "      <td>1.000182e+00</td>\n",
       "      <td>1.000182e+00</td>\n",
       "      <td>1.000182e+00</td>\n",
       "      <td>1.000182e+00</td>\n",
       "      <td>1.000182e+00</td>\n",
       "      <td>1.000182e+00</td>\n",
       "      <td>1.000182e+00</td>\n",
       "      <td>1.000182e+00</td>\n",
       "      <td>1.000182e+00</td>\n",
       "      <td>1.000182e+00</td>\n",
       "      <td>0.431078</td>\n",
       "      <td>0.43424</td>\n",
       "      <td>0.426048</td>\n",
       "    </tr>\n",
       "    <tr>\n",
       "      <th>min</th>\n",
       "      <td>-5.275469e-01</td>\n",
       "      <td>-4.285710e-01</td>\n",
       "      <td>-4.216546e+00</td>\n",
       "      <td>-5.573087e+00</td>\n",
       "      <td>-7.217346e-01</td>\n",
       "      <td>-7.601076e-01</td>\n",
       "      <td>-3.166774e+00</td>\n",
       "      <td>-2.836024e+00</td>\n",
       "      <td>-4.883110e+00</td>\n",
       "      <td>-1.573684e+00</td>\n",
       "      <td>-1.257900e+00</td>\n",
       "      <td>-8.515935e-01</td>\n",
       "      <td>-6.092030e+00</td>\n",
       "      <td>-2.603396e+00</td>\n",
       "      <td>-2.938961e+00</td>\n",
       "      <td>-1.839756e+00</td>\n",
       "      <td>0.000000</td>\n",
       "      <td>0.00000</td>\n",
       "      <td>0.000000</td>\n",
       "    </tr>\n",
       "    <tr>\n",
       "      <th>25%</th>\n",
       "      <td>-5.275469e-01</td>\n",
       "      <td>-4.285710e-01</td>\n",
       "      <td>-5.801565e-01</td>\n",
       "      <td>-6.174146e-01</td>\n",
       "      <td>-7.217346e-01</td>\n",
       "      <td>-7.601076e-01</td>\n",
       "      <td>-6.163856e-01</td>\n",
       "      <td>-5.571241e-01</td>\n",
       "      <td>-6.079309e-01</td>\n",
       "      <td>-1.573684e+00</td>\n",
       "      <td>-1.257900e+00</td>\n",
       "      <td>-8.515935e-01</td>\n",
       "      <td>-5.149173e-01</td>\n",
       "      <td>-7.223605e-01</td>\n",
       "      <td>-7.171270e-01</td>\n",
       "      <td>-6.619725e-01</td>\n",
       "      <td>0.000000</td>\n",
       "      <td>0.00000</td>\n",
       "      <td>0.000000</td>\n",
       "    </tr>\n",
       "    <tr>\n",
       "      <th>50%</th>\n",
       "      <td>-5.275469e-01</td>\n",
       "      <td>-4.285710e-01</td>\n",
       "      <td>4.312746e-02</td>\n",
       "      <td>-3.060585e-02</td>\n",
       "      <td>-7.217346e-01</td>\n",
       "      <td>-7.601076e-01</td>\n",
       "      <td>3.266691e-02</td>\n",
       "      <td>1.843190e-01</td>\n",
       "      <td>-5.010307e-02</td>\n",
       "      <td>3.976378e-01</td>\n",
       "      <td>4.616456e-01</td>\n",
       "      <td>-8.515935e-01</td>\n",
       "      <td>2.053492e-02</td>\n",
       "      <td>-1.111110e-01</td>\n",
       "      <td>-1.616686e-01</td>\n",
       "      <td>-2.336877e-01</td>\n",
       "      <td>0.000000</td>\n",
       "      <td>0.00000</td>\n",
       "      <td>0.000000</td>\n",
       "    </tr>\n",
       "    <tr>\n",
       "      <th>75%</th>\n",
       "      <td>-5.275469e-01</td>\n",
       "      <td>-4.285710e-01</td>\n",
       "      <td>5.923185e-01</td>\n",
       "      <td>6.056129e-01</td>\n",
       "      <td>1.161085e+00</td>\n",
       "      <td>1.075492e+00</td>\n",
       "      <td>7.251858e-01</td>\n",
       "      <td>5.464978e-01</td>\n",
       "      <td>5.814082e-01</td>\n",
       "      <td>7.626438e-01</td>\n",
       "      <td>8.306693e-01</td>\n",
       "      <td>1.022385e+00</td>\n",
       "      <td>5.579530e-01</td>\n",
       "      <td>5.811903e-01</td>\n",
       "      <td>5.705266e-01</td>\n",
       "      <td>5.158106e-01</td>\n",
       "      <td>0.000000</td>\n",
       "      <td>1.00000</td>\n",
       "      <td>0.000000</td>\n",
       "    </tr>\n",
       "    <tr>\n",
       "      <th>max</th>\n",
       "      <td>3.546959e+00</td>\n",
       "      <td>4.476267e+00</td>\n",
       "      <td>4.151053e+00</td>\n",
       "      <td>3.983199e+00</td>\n",
       "      <td>2.732573e+00</td>\n",
       "      <td>2.754864e+00</td>\n",
       "      <td>3.026917e+00</td>\n",
       "      <td>4.731333e+00</td>\n",
       "      <td>6.713031e+00</td>\n",
       "      <td>1.946297e+00</td>\n",
       "      <td>2.144924e+00</td>\n",
       "      <td>2.361351e+00</td>\n",
       "      <td>3.392303e+00</td>\n",
       "      <td>3.177320e+00</td>\n",
       "      <td>5.089939e+00</td>\n",
       "      <td>2.764306e+00</td>\n",
       "      <td>1.000000</td>\n",
       "      <td>1.00000</td>\n",
       "      <td>1.000000</td>\n",
       "    </tr>\n",
       "  </tbody>\n",
       "</table>\n",
       "</div>"
      ],
      "text/plain": [
       "       Akashiwo sanguinea (cells/L)  Alexandrium spp. (cells/L)  Ammonia (uM)  \\\n",
       "count                  2.750000e+03                2.750000e+03  2.750000e+03   \n",
       "mean                  -3.324210e-16               -1.849026e-17 -6.467554e-17   \n",
       "std                    1.000182e+00                1.000182e+00  1.000182e+00   \n",
       "min                   -5.275469e-01               -4.285710e-01 -4.216546e+00   \n",
       "25%                   -5.275469e-01               -4.285710e-01 -5.801565e-01   \n",
       "50%                   -5.275469e-01               -4.285710e-01  4.312746e-02   \n",
       "75%                   -5.275469e-01               -4.285710e-01  5.923185e-01   \n",
       "max                    3.546959e+00                4.476267e+00  4.151053e+00   \n",
       "\n",
       "       Chlorophyll (mg/m3)  Dinophysis spp. (cells/L)  \\\n",
       "count         2.750000e+03               2.750000e+03   \n",
       "mean         -1.177240e-16              -5.773160e-16   \n",
       "std           1.000182e+00               1.000182e+00   \n",
       "min          -5.573087e+00              -7.217346e-01   \n",
       "25%          -6.174146e-01              -7.217346e-01   \n",
       "50%          -3.060585e-02              -7.217346e-01   \n",
       "75%           6.056129e-01               1.161085e+00   \n",
       "max           3.983199e+00               2.732573e+00   \n",
       "\n",
       "       Lingulodinium polyedrum (cells/L)  Nitrate (uM)  Nitrite (uM)  \\\n",
       "count                       2.750000e+03  2.750000e+03  2.750000e+03   \n",
       "mean                        1.503444e-16 -2.357710e-17 -1.211152e-17   \n",
       "std                         1.000182e+00  1.000182e+00  1.000182e+00   \n",
       "min                        -7.601076e-01 -3.166774e+00 -2.836024e+00   \n",
       "25%                        -7.601076e-01 -6.163856e-01 -5.571241e-01   \n",
       "50%                        -7.601076e-01  3.266691e-02  1.843190e-01   \n",
       "75%                         1.075492e+00  7.251858e-01  5.464978e-01   \n",
       "max                         2.754864e+00  3.026917e+00  4.731333e+00   \n",
       "\n",
       "       Phosphate (uM)  Prorocentrum spp. (cells/L)  \\\n",
       "count    2.750000e+03                 2.750000e+03   \n",
       "mean     2.769502e-17                 1.099726e-16   \n",
       "std      1.000182e+00                 1.000182e+00   \n",
       "min     -4.883110e+00                -1.573684e+00   \n",
       "25%     -6.079309e-01                -1.573684e+00   \n",
       "50%     -5.010307e-02                 3.976378e-01   \n",
       "75%      5.814082e-01                 7.626438e-01   \n",
       "max      6.713031e+00                 1.946297e+00   \n",
       "\n",
       "       Pseudo-nitzschia delicatissima group (cells/L)  \\\n",
       "count                                    2.750000e+03   \n",
       "mean                                    -3.936245e-17   \n",
       "std                                      1.000182e+00   \n",
       "min                                     -1.257900e+00   \n",
       "25%                                     -1.257900e+00   \n",
       "50%                                      4.616456e-01   \n",
       "75%                                      8.306693e-01   \n",
       "max                                      2.144924e+00   \n",
       "\n",
       "       Pseudo-nitzschia seriata group (cells/L)  Silicate (uM)  \\\n",
       "count                              2.750000e+03   2.750000e+03   \n",
       "mean                              -1.707725e-17   9.002899e-17   \n",
       "std                                1.000182e+00   1.000182e+00   \n",
       "min                               -8.515935e-01  -6.092030e+00   \n",
       "25%                               -8.515935e-01  -5.149173e-01   \n",
       "50%                               -8.515935e-01   2.053492e-02   \n",
       "75%                                1.022385e+00   5.579530e-01   \n",
       "max                                2.361351e+00   3.392303e+00   \n",
       "\n",
       "       Water Temperature (C)  Upwelling Index           ONI       spring  \\\n",
       "count           2.750000e+03     2.750000e+03  2.750000e+03  2750.000000   \n",
       "mean           -7.056174e-16     6.768323e-17  1.462668e-16     0.246545   \n",
       "std             1.000182e+00     1.000182e+00  1.000182e+00     0.431078   \n",
       "min            -2.603396e+00    -2.938961e+00 -1.839756e+00     0.000000   \n",
       "25%            -7.223605e-01    -7.171270e-01 -6.619725e-01     0.000000   \n",
       "50%            -1.111110e-01    -1.616686e-01 -2.336877e-01     0.000000   \n",
       "75%             5.811903e-01     5.705266e-01  5.158106e-01     0.000000   \n",
       "max             3.177320e+00     5.089939e+00  2.764306e+00     1.000000   \n",
       "\n",
       "           summer       winter  \n",
       "count  2750.00000  2750.000000  \n",
       "mean      0.25200     0.238182  \n",
       "std       0.43424     0.426048  \n",
       "min       0.00000     0.000000  \n",
       "25%       0.00000     0.000000  \n",
       "50%       0.00000     0.000000  \n",
       "75%       1.00000     0.000000  \n",
       "max       1.00000     1.000000  "
      ]
     },
     "execution_count": 6,
     "metadata": {},
     "output_type": "execute_result"
    }
   ],
   "source": [
    "#Scale the columns\n",
    "from sklearn.preprocessing import scale\n",
    "scaled_data = pd.DataFrame(scale(clean_data))\n",
    "scaled_data.columns = clean_data.columns\n",
    "#Combine the season columns\n",
    "scaled_data = pd.concat([scaled_data, season_df], axis = 1)\n",
    "scaled_data.describe()"
   ]
  },
  {
   "cell_type": "code",
   "execution_count": 7,
   "metadata": {},
   "outputs": [],
   "source": [
    "#Create train/validation and test sets\n",
    "#use stratification to ensure similar class composition between train and test sets\n",
    "from sklearn.model_selection import train_test_split\n",
    "Xtrain, Xtest, ytrain, ytest = train_test_split(scaled_data, target_data, stratify=target_data, random_state=42)\n",
    "#Extract domoic acid concentrations for model evaluation later\n",
    "da_train = domoic_acid[ytrain.index]\n",
    "da_test = domoic_acid[ytest.index]"
   ]
  },
  {
   "cell_type": "markdown",
   "metadata": {},
   "source": [
    "### 2. Logistic Regression"
   ]
  },
  {
   "cell_type": "markdown",
   "metadata": {},
   "source": [
    "From EDA, I know the data was very imbalanced in that there were much more safe samples than dangerous samples. I am doing two things to combat this. (1) Applying oversampling with SMOTE to the training set (not the validation set). (2) Use average precision instead of accuracy or auc_roc as metric in hyperparameter tuning and model evaluation. "
   ]
  },
  {
   "cell_type": "code",
   "execution_count": 8,
   "metadata": {},
   "outputs": [
    {
     "name": "stdout",
     "output_type": "stream",
     "text": [
      "Best parameters were {'logreg__C': 0.01, 'logreg__penalty': 'l1'}\n",
      "Best average precision was 0.4408093733259946\n"
     ]
    }
   ],
   "source": [
    "#Import libraries\n",
    "from sklearn.linear_model import LogisticRegression\n",
    "from sklearn.model_selection import GridSearchCV, StratifiedKFold\n",
    "from imblearn.over_sampling import SMOTE\n",
    "from imblearn.pipeline import Pipeline\n",
    "#Create instances of models and pipeline\n",
    "clf = Pipeline([('sampling', SMOTE(random_state=42)), ('logreg', LogisticRegression(random_state=42))])\n",
    "#Grid search with cross validation\n",
    "params = {\n",
    "    'logreg__C': [0.001, 0.01, 0.1, 1, 10],\n",
    "    'logreg__penalty': ['l1', 'l2']\n",
    "}\n",
    "model = GridSearchCV(clf, params, scoring='average_precision')\n",
    "model.fit(Xtrain, ytrain)\n",
    "print('Best parameters were', model.best_params_)\n",
    "print('Best average precision was', model.best_score_)"
   ]
  },
  {
   "cell_type": "code",
   "execution_count": 9,
   "metadata": {
    "scrolled": true
   },
   "outputs": [
    {
     "name": "stdout",
     "output_type": "stream",
     "text": [
      "Akashiwo sanguinea (cells/L)                     -0.025437\n",
      "Alexandrium spp. (cells/L)                        0.000000\n",
      "Ammonia (uM)                                      0.006533\n",
      "Chlorophyll (mg/m3)                               0.141584\n",
      "Dinophysis spp. (cells/L)                         0.000000\n",
      "Lingulodinium polyedrum (cells/L)                -0.056207\n",
      "Nitrate (uM)                                      0.000000\n",
      "Nitrite (uM)                                      0.000000\n",
      "Phosphate (uM)                                    0.077456\n",
      "Prorocentrum spp. (cells/L)                       0.000000\n",
      "Pseudo-nitzschia delicatissima group (cells/L)    0.000000\n",
      "Pseudo-nitzschia seriata group (cells/L)          1.574543\n",
      "Silicate (uM)                                     0.000000\n",
      "Water Temperature (C)                            -0.228550\n",
      "Upwelling Index                                   0.032707\n",
      "ONI                                               0.000000\n",
      "spring                                            0.000000\n",
      "summer                                            0.000000\n",
      "winter                                            0.000000\n",
      "dtype: float64\n"
     ]
    }
   ],
   "source": [
    "#Let's check coefficients of features\n",
    "logreg = Pipeline([('sampling', SMOTE(random_state=42)), ('logreg', LogisticRegression(C=0.01, penalty='l1', random_state=42))])\n",
    "logreg.fit(Xtrain, ytrain)\n",
    "coefs = pd.Series(logreg.named_steps['logreg'].coef_.reshape(-1), index=scaled_data.columns)\n",
    "print(coefs)"
   ]
  },
  {
   "cell_type": "markdown",
   "metadata": {},
   "source": [
    "Pseudo-nitzschia seriata was the most influential feature. Water temperature, chlorophyll were the next important features. These were consistent with EDA. However, many features had zero or near zero coefficients even we know from EDA that some of them like season had significantly impact on the risk of toxic events."
   ]
  },
  {
   "cell_type": "code",
   "execution_count": 10,
   "metadata": {},
   "outputs": [
    {
     "name": "stdout",
     "output_type": "stream",
     "text": [
      "Accuracy of test set was 0.7456395348837209\n",
      "Average precision of test set was 0.3421144752653311\n",
      "\n",
      "\n",
      "True Negative = 486\tFalse Positive = 173\n",
      "False Negative = 2\tTrue Positive=27\n",
      "\n",
      "\n",
      "             precision    recall  f1-score   support\n",
      "\n",
      "          0       1.00      0.74      0.85       659\n",
      "          1       0.14      0.93      0.24        29\n",
      "\n",
      "avg / total       0.96      0.75      0.82       688\n",
      "\n"
     ]
    }
   ],
   "source": [
    "#Model evaluation using the test set\n",
    "from sklearn.metrics import classification_report, confusion_matrix, accuracy_score, average_precision_score\n",
    "def model_evaluation(model, Xtest, ytest):\n",
    "    ypred = model.predict(Xtest)\n",
    "    ypred_prob = model.predict_proba(Xtest)[:,1]\n",
    "    print('Accuracy of test set was', accuracy_score(ytest, ypred))\n",
    "    print('Average precision of test set was', average_precision_score(ytest, ypred_prob))\n",
    "    print(\"\\n\")\n",
    "    tn, fp, fn, tp = confusion_matrix(ytest, ypred).ravel()\n",
    "    print('True Negative = {}\\tFalse Positive = {}\\nFalse Negative = {}\\tTrue Positive={}'.format(tn,fp,fn,tp))\n",
    "    print(\"\\n\")\n",
    "    print(classification_report(ytest, ypred))\n",
    "model_evaluation(logreg, Xtest, ytest)"
   ]
  },
  {
   "cell_type": "markdown",
   "metadata": {},
   "source": [
    "The main problem here is low precision for the positive class, in other words, too many false positives."
   ]
  },
  {
   "cell_type": "markdown",
   "metadata": {},
   "source": [
    "### 3. Support Vector Machine"
   ]
  },
  {
   "cell_type": "code",
   "execution_count": 13,
   "metadata": {},
   "outputs": [
    {
     "name": "stdout",
     "output_type": "stream",
     "text": [
      "Best parameters were {'svm__C': 1000, 'svm__gamma': 0.001}\n",
      "Best average precision was 0.4526853932156869\n"
     ]
    }
   ],
   "source": [
    "#Import libraries\n",
    "from sklearn.svm import SVC\n",
    "#Create instances of models and pipeline\n",
    "clf = Pipeline([('sampling', SMOTE(random_state=42)), ('svm', SVC(probability=True, random_state=42))])\n",
    "#Grid search with cross validation\n",
    "params = {\n",
    "    'svm__C': [0.1, 1, 10, 100, 1000, 10000],\n",
    "    'svm__gamma': [1e-4, 0.001, 0.01, 0.1, 1, 10]\n",
    "}\n",
    "model = GridSearchCV(clf, params, scoring='average_precision', n_jobs=-1)\n",
    "model.fit(Xtrain, ytrain)\n",
    "print('Best parameters were', model.best_params_)\n",
    "print('Best average precision was', model.best_score_)"
   ]
  },
  {
   "cell_type": "markdown",
   "metadata": {},
   "source": [
    "The average precision of cross validation was better than that of logistic regression."
   ]
  },
  {
   "cell_type": "code",
   "execution_count": 14,
   "metadata": {},
   "outputs": [
    {
     "name": "stdout",
     "output_type": "stream",
     "text": [
      "Accuracy of test set was 0.9055232558139535\n",
      "Average precision of test set was 0.33742437177976414\n",
      "\n",
      "\n",
      "True Negative = 603\tFalse Positive = 56\n",
      "False Negative = 9\tTrue Positive=20\n",
      "\n",
      "\n",
      "             precision    recall  f1-score   support\n",
      "\n",
      "          0       0.99      0.92      0.95       659\n",
      "          1       0.26      0.69      0.38        29\n",
      "\n",
      "avg / total       0.95      0.91      0.92       688\n",
      "\n"
     ]
    }
   ],
   "source": [
    "#Model evaluation\n",
    "svc = Pipeline([('sampling', SMOTE(random_state=42)), ('svm', SVC(C=1000, gamma=0.001, probability=True, random_state=42))])\n",
    "svc.fit(Xtrain, ytrain)\n",
    "model_evaluation(svc, Xtest, ytest)"
   ]
  },
  {
   "cell_type": "markdown",
   "metadata": {},
   "source": [
    "The accuracy improved a lot, but average precision was similar to logistic regression. This model drastically improved the precision for the positive class at the cost of recall. F1 score was better though."
   ]
  },
  {
   "cell_type": "markdown",
   "metadata": {},
   "source": [
    "### 4. Random Forest"
   ]
  },
  {
   "cell_type": "code",
   "execution_count": 15,
   "metadata": {},
   "outputs": [
    {
     "name": "stdout",
     "output_type": "stream",
     "text": [
      "Best parameters were {'rf__max_depth': None, 'rf__min_samples_leaf': 1, 'rf__min_samples_split': 2, 'rf__n_estimators': 200}\n",
      "Best average precision was 0.4842581052682777\n"
     ]
    }
   ],
   "source": [
    "#Import libraries\n",
    "from sklearn.ensemble import RandomForestClassifier\n",
    "#Create instances of models and pipeline\n",
    "clf = Pipeline([('sampling', SMOTE(random_state=42)), ('rf', RandomForestClassifier(random_state=42))])\n",
    "#Grid search with cross validation\n",
    "params = {\n",
    "    'rf__n_estimators': [10, 50, 100, 200],\n",
    "    'rf__max_depth': [10, 20, None],\n",
    "    'rf__min_samples_split': [2, 10, 20, 50],\n",
    "    'rf__min_samples_leaf': [1, 5, 10, 20]\n",
    "}\n",
    "model = GridSearchCV(clf, params, scoring='average_precision', n_jobs=-1)\n",
    "model.fit(Xtrain, ytrain)\n",
    "print('Best parameters were', model.best_params_)\n",
    "print('Best average precision was', model.best_score_)"
   ]
  },
  {
   "cell_type": "code",
   "execution_count": 16,
   "metadata": {
    "scrolled": true
   },
   "outputs": [
    {
     "name": "stdout",
     "output_type": "stream",
     "text": [
      "Accuracy of test set was 0.9651162790697675\n",
      "Average precision of test set was 0.49777010217302897\n",
      "\n",
      "\n",
      "True Negative = 644\tFalse Positive = 15\n",
      "False Negative = 9\tTrue Positive=20\n",
      "\n",
      "\n",
      "             precision    recall  f1-score   support\n",
      "\n",
      "          0       0.99      0.98      0.98       659\n",
      "          1       0.57      0.69      0.62        29\n",
      "\n",
      "avg / total       0.97      0.97      0.97       688\n",
      "\n"
     ]
    }
   ],
   "source": [
    "#Model evaluation\n",
    "rf = Pipeline([('sampling', SMOTE(random_state=42)),\\\n",
    "               ('rf', RandomForestClassifier(n_estimators=200, max_depth=None, min_samples_split=2, min_samples_leaf=1, random_state=42))])\n",
    "rf.fit(Xtrain, ytrain)\n",
    "model_evaluation(rf, Xtest, ytest)"
   ]
  },
  {
   "cell_type": "markdown",
   "metadata": {},
   "source": [
    "This model's overall performance was even better than SVC. It had better average precision in both training and test sets, higher precision with the same recall."
   ]
  },
  {
   "cell_type": "code",
   "execution_count": 17,
   "metadata": {},
   "outputs": [
    {
     "data": {
      "image/png": "[encoded data removed]",
      "text/plain": [
       "<matplotlib.figure.Figure at 0x109321828>"
      ]
     },
     "metadata": {},
     "output_type": "display_data"
    }
   ],
   "source": [
    "#Let's take a look at feature importance\n",
    "imp = pd.Series(rf.named_steps['rf'].feature_importances_, index=scaled_data.columns)\n",
    "imp = imp.sort_values(ascending=False)\n",
    "def plot_importance(importance):\n",
    "    importance = importance.sort_values(ascending = False)\n",
    "    plt.figure(figsize=(8,5))\n",
    "    _ = plt.bar(range(len(importance)), importance)\n",
    "    _ = plt.xticks(range(len(importance)), importance.index, rotation=90)\n",
    "    _ = plt.xlabel('Features')\n",
    "    _ = plt.ylabel(\"Feature Importance\")\n",
    "plot_importance(imp)"
   ]
  },
  {
   "cell_type": "markdown",
   "metadata": {},
   "source": [
    "The most important feature was the same as logistic regression model. After that, water temperature, chlorophyll, season were the next most important. This model considers more features than logistic regression. That's why it performs better."
   ]
  },
  {
   "cell_type": "markdown",
   "metadata": {},
   "source": [
    "### 5. Gradient Boost"
   ]
  },
  {
   "cell_type": "code",
   "execution_count": 30,
   "metadata": {},
   "outputs": [
    {
     "name": "stdout",
     "output_type": "stream",
     "text": [
      "Best parameters were {'gb__learning_rate': 0.15, 'gb__n_estimators': 100}\n",
      "Best average precision was 0.44124718315947886\n"
     ]
    }
   ],
   "source": [
    "from sklearn.ensemble import GradientBoostingClassifier\n",
    "#Use some tuned parameters from random forest, only tune learning rate and n_estimators\n",
    "clf = Pipeline([('sampling', SMOTE(random_state=42)),\\\n",
    "                ('gb', GradientBoostingClassifier(min_samples_split=2, min_samples_leaf=1, max_depth=None, random_state=42))])\n",
    "params = {\n",
    "    'gb__learning_rate': [0.05, 0.1, 0.15, 0.2],\n",
    "    'gb__n_estimators': [50, 100, 200, 400],\n",
    "}\n",
    "model = GridSearchCV(clf, params, scoring='average_precision', n_jobs=-1)\n",
    "model.fit(Xtrain, ytrain)\n",
    "print('Best parameters were', model.best_params_)\n",
    "print('Best average precision was', model.best_score_)"
   ]
  },
  {
   "cell_type": "code",
   "execution_count": 31,
   "metadata": {},
   "outputs": [
    {
     "name": "stdout",
     "output_type": "stream",
     "text": [
      "Accuracy of test set was 0.9229651162790697\n",
      "Average precision of test set was 0.3303219036196139\n",
      "\n",
      "\n",
      "True Negative = 624\tFalse Positive = 35\n",
      "False Negative = 18\tTrue Positive=11\n",
      "\n",
      "\n",
      "             precision    recall  f1-score   support\n",
      "\n",
      "          0       0.97      0.95      0.96       659\n",
      "          1       0.24      0.38      0.29        29\n",
      "\n",
      "avg / total       0.94      0.92      0.93       688\n",
      "\n"
     ]
    }
   ],
   "source": [
    "#Model evaluation\n",
    "gb = Pipeline([('sampling', SMOTE(random_state=42)),\\\n",
    "               ('gb', GradientBoostingClassifier(min_samples_split=2, min_samples_leaf=1, max_depth=None, \\\n",
    "                                                 learning_rate=0.15, n_estimators=100, random_state=42))])\n",
    "gb.fit(Xtrain, ytrain)\n",
    "model_evaluation(gb, Xtest, ytest)"
   ]
  },
  {
   "cell_type": "markdown",
   "metadata": {},
   "source": [
    "This model did not perform as well as the random forest model."
   ]
  },
  {
   "cell_type": "code",
   "execution_count": 32,
   "metadata": {},
   "outputs": [
    {
     "data": {
      "image/png": "[encoded data removed]",
      "text/plain": [
       "<matplotlib.figure.Figure at 0x1a12f1ac88>"
      ]
     },
     "metadata": {},
     "output_type": "display_data"
    }
   ],
   "source": [
    "#Let's take a look at feature importance\n",
    "imp = pd.Series(gb.named_steps['gb'].feature_importances_, index=scaled_data.columns)\n",
    "imp = imp.sort_values(ascending=False)\n",
    "plot_importance(imp)"
   ]
  },
  {
   "cell_type": "markdown",
   "metadata": {},
   "source": [
    "This is interesting. The performance of gradient boost trees was the best among all models. It has the same dominant feature just as other models. But it ranks other features differently. Some of its next most important features such as phosphate were not important at all in the random forest model. On the other hand, features that were considered important in random forest model like season, were not as important here."
   ]
  },
  {
   "cell_type": "markdown",
   "metadata": {},
   "source": [
    "Because these models had their strengths and weaknesses. Logistic regression model had the best recall while the other three models had better precision. Also, different models considered features differently. Combining them as an ensemble model would probably do better than each individually."
   ]
  },
  {
   "cell_type": "markdown",
   "metadata": {},
   "source": [
    "### 6. Ensemble model"
   ]
  },
  {
   "cell_type": "code",
   "execution_count": 33,
   "metadata": {
    "scrolled": true
   },
   "outputs": [
    {
     "name": "stdout",
     "output_type": "stream",
     "text": [
      "[[0, 0, 0, 1], [0, 0, 1, 0], [0, 0, 1, 1], [0, 1, 0, 0], [0, 1, 0, 1], [0, 1, 1, 0], [0, 1, 1, 1], [1, 0, 0, 0], [1, 0, 0, 1], [1, 0, 1, 0], [1, 0, 1, 1], [1, 1, 0, 0], [1, 1, 0, 1], [1, 1, 1, 0], [1, 1, 1, 1]]\n",
      "Best parameters were {'weights': [1, 1, 1, 0]}\n",
      "Best average precision was 0.5278631816511815\n"
     ]
    }
   ],
   "source": [
    "from sklearn.ensemble import VotingClassifier\n",
    "#Make a weights matrix\n",
    "weights = [[int(x) for x in list(\"{0:0b}\".format(i).zfill(4))] for i in range(1, 2 ** 4)]\n",
    "print(weights)\n",
    "#Use CV to figure which models to use in the ensumble model\n",
    "clf = VotingClassifier(estimators=[('logreg', logreg), ('svc', svc), ('rf', rf), ('gb', gb)],\\\n",
    "                          voting='soft')\n",
    "params = {'weights': weights}\n",
    "model = GridSearchCV(clf, params, scoring='average_precision', n_jobs=-1)\n",
    "model.fit(Xtrain, ytrain)\n",
    "print('Best parameters were', model.best_params_)\n",
    "print('Best average precision was', model.best_score_)"
   ]
  },
  {
   "cell_type": "code",
   "execution_count": 36,
   "metadata": {},
   "outputs": [
    {
     "name": "stdout",
     "output_type": "stream",
     "text": [
      "Best parameters were {'weights': [2, 1, 1]}\n",
      "Best average precision was 0.5375913004825776\n"
     ]
    }
   ],
   "source": [
    "#CV shows use only logistic regression, suppport vector machine, and random forest.\n",
    "#Try a few different weights between the three classifiers\n",
    "clf = VotingClassifier(estimators=[('logreg', logreg), ('svc', svc), ('rf', rf)], voting='soft')\n",
    "params = {'weights': [[1,1,1], [2,1,1], [1,2,1], [1,1,2], [2,2,1], [2,1,2], [1,2,2]]}\n",
    "model = GridSearchCV(clf, params, scoring='average_precision', n_jobs=-1)\n",
    "model.fit(Xtrain, ytrain)\n",
    "print('Best parameters were', model.best_params_)\n",
    "print('Best average precision was', model.best_score_)"
   ]
  },
  {
   "cell_type": "code",
   "execution_count": 37,
   "metadata": {},
   "outputs": [
    {
     "name": "stdout",
     "output_type": "stream",
     "text": [
      "Accuracy of test set was 0.9127906976744186\n",
      "Average precision of test set was 0.4140616482378054\n",
      "\n",
      "\n",
      "True Negative = 604\tFalse Positive = 55\n",
      "False Negative = 5\tTrue Positive=24\n",
      "\n",
      "\n",
      "             precision    recall  f1-score   support\n",
      "\n",
      "          0       0.99      0.92      0.95       659\n",
      "          1       0.30      0.83      0.44        29\n",
      "\n",
      "avg / total       0.96      0.91      0.93       688\n",
      "\n"
     ]
    },
    {
     "name": "stderr",
     "output_type": "stream",
     "text": [
      "/Users/zhenfengliu/anaconda3/lib/python3.6/site-packages/sklearn/preprocessing/label.py:151: DeprecationWarning: The truth value of an empty array is ambiguous. Returning False, but in future this will result in an error. Use `array.size > 0` to check that an array is not empty.\n",
      "  if diff:\n"
     ]
    }
   ],
   "source": [
    "#Use the best weights parameter\n",
    "voting = VotingClassifier(estimators=[('logreg', logreg), ('svc', svc), ('rf', rf)], voting='soft', weights = [2,1,1])\n",
    "voting.fit(Xtrain, ytrain)\n",
    "model_evaluation(voting, Xtest, ytest)"
   ]
  },
  {
   "cell_type": "markdown",
   "metadata": {},
   "source": [
    "Let's compare with the best indivual model, the random forest model. Average precision was higher in the training set with cross validation, but lower in the test set. It had higher recall, lower precision, and lower F1 score.<br>\n",
    "But it is hard to evalute these models just by looking at the scores, let's plot the precision-recall curve of all models and see which is best."
   ]
  },
  {
   "cell_type": "code",
   "execution_count": 38,
   "metadata": {},
   "outputs": [
    {
     "data": {
      "image/png": "[encoded data removed]",
      "text/plain": [
       "<matplotlib.figure.Figure at 0x1095bccf8>"
      ]
     },
     "metadata": {},
     "output_type": "display_data"
    }
   ],
   "source": [
    "#Plot the precision-recall curve of different models based on cross validation on the training set.\n",
    "from sklearn.metrics import precision_recall_curve\n",
    "from scipy import interpolate\n",
    "models = [logreg, svc, rf, gb, voting]\n",
    "labels = ['Logistic Regression', 'Support Vector Machine', 'Random Forest', 'Grandient Boosting', 'Voting']\n",
    "colors = ['red', 'yellow', 'green', 'blue', 'purple']\n",
    "cv = StratifiedKFold(n_splits=3)\n",
    "recall_plot = np.linspace(0, 1, 100)\n",
    "plt.figure(figsize=(8,8))\n",
    "for index, model in enumerate(models):\n",
    "    precision_plot = list()\n",
    "    for train, test in cv.split(Xtrain.values, ytrain.values):\n",
    "        ypred_prob = model.fit(Xtrain.values[train], ytrain.values[train]).predict_proba(Xtrain.values[test])[:,1]\n",
    "        precision, recall, _ = precision_recall_curve(ytrain.values[test], ypred_prob)\n",
    "        interp = interpolate.interp1d(recall, precision)\n",
    "        precision_plot.append(interp(recall_plot))\n",
    "    precision_plot = np.mean(precision_plot, axis=0)\n",
    "    _ = plt.step(recall_plot, precision_plot, color=colors[index], alpha=0.5, where='post', label=labels[index])\n",
    "random = np.random.rand(len(ytrain))\n",
    "precision, recall, _ = precision_recall_curve(ytrain, random)\n",
    "_ = plt.step(recall, precision, color='k', alpha=0.5, where='post', label='Random')\n",
    "_ = plt.xlabel('Recall')\n",
    "_ = plt.ylabel('Precision')\n",
    "_ = plt.legend(fontsize=12, bbox_to_anchor=(1, 1))\n",
    "_ = plt.title('Precision-Recall Curve based on the training set with cross validation')"
   ]
  },
  {
   "cell_type": "markdown",
   "metadata": {},
   "source": [
    "Based on this plot, the voting model had the best perfomance, both at the high precision part, and high recall part. "
   ]
  },
  {
   "cell_type": "code",
   "execution_count": 39,
   "metadata": {},
   "outputs": [
    {
     "data": {
      "image/png": "[encoded data removed]",
      "text/plain": [
       "<matplotlib.figure.Figure at 0x1a12dc0f28>"
      ]
     },
     "metadata": {},
     "output_type": "display_data"
    }
   ],
   "source": [
    "#Plot the precision-recall curve of different models on the test set.\n",
    "plt.figure(figsize=(8,8))\n",
    "for index, model in enumerate(models):\n",
    "    ypred_prob = model.predict_proba(Xtest)[:,1]\n",
    "    precision, recall, _ = precision_recall_curve(ytest, ypred_prob)\n",
    "    _ = plt.step(recall, precision, color=colors[index], alpha=0.5, where='post', label=labels[index])\n",
    "random = np.random.rand(len(ytest))\n",
    "precision, recall, _ = precision_recall_curve(ytest, random)\n",
    "_ = plt.step(recall, precision, color='k', alpha=0.5, where='post', label='Random')\n",
    "_ = plt.xlabel('Recall')\n",
    "_ = plt.ylabel('Precision')\n",
    "_ = plt.legend(fontsize=12, bbox_to_anchor=(1, 1))\n",
    "_ = plt.title('Precision-Recall Curve based on test data set')"
   ]
  },
  {
   "cell_type": "markdown",
   "metadata": {},
   "source": [
    "Based on this plot, the random forest model seemed to be a little better. <br>\n",
    "Let's see how the model performs with real domoic acid concentrations, not just a binary classification."
   ]
  },
  {
   "cell_type": "code",
   "execution_count": 41,
   "metadata": {},
   "outputs": [
    {
     "data": {
      "image/png": "[encoded data removed]",
      "text/plain": [
       "<matplotlib.figure.Figure at 0x1a13627fd0>"
      ]
     },
     "metadata": {},
     "output_type": "display_data"
    }
   ],
   "source": [
    "#Plot probability against domoic acid value, based on test set.\n",
    "def plot_prob_value(value, model, Xtest, title):\n",
    "    ypred_prob = model.predict_proba(Xtest)[:,1]\n",
    "    plt.yscale('log')\n",
    "    _ = plt.scatter(ypred_prob, value)\n",
    "    _ = plt.xlabel('Probability of Dangerous DA levels')\n",
    "    _ = plt.ylabel('Domoic Acid (ng/mL)')\n",
    "    _ = plt.axhline(y=0.5, color='r', lw=3)\n",
    "    _ = plt.text(1, 0.7, 'Dangerous level')\n",
    "    _ = plt.title(title)\n",
    "plot_prob_value(da_test+0.001, voting, Xtest, 'Voting Model')"
   ]
  },
  {
   "cell_type": "code",
   "execution_count": 42,
   "metadata": {},
   "outputs": [
    {
     "data": {
      "image/png": "[encoded data removed]",
      "text/plain": [
       "<matplotlib.figure.Figure at 0x1a134d3240>"
      ]
     },
     "metadata": {},
     "output_type": "display_data"
    }
   ],
   "source": [
    "plot_prob_value(da_test+0.001, rf, Xtest, 'Random Forest')"
   ]
  },
  {
   "cell_type": "markdown",
   "metadata": {},
   "source": [
    "We can see the voting model had higher recall, with most dangerous samples having probabilities of 0.4 or higher. On the other hand, the random forest model had higher precision, with most safe samples having probabilities of 0.4 or lower.<br>\n",
    "Let's think about the two models practically. A false positive prediction would probably result in some wasted resources such as unnecessary domoic acid tests, and/or some extra caution such as limited fishing, swimming, etc. A false negative prediction, on the other hand, could potentially have catastrophic consequences, such as public health crisis. **Therefore, from a practical point of view, we want a model with higher recall at the cost of precision. I would conclude the voting model is the most useful from the ones tested here**. "
   ]
  },
  {
   "cell_type": "code",
   "execution_count": null,
   "metadata": {},
   "outputs": [],
   "source": []
  }
 ],
 "metadata": {
  "kernelspec": {
   "display_name": "Python 3",
   "language": "python",
   "name": "python3"
  },
  "language_info": {
   "codemirror_mode": {
    "name": "ipython",
    "version": 3
   },
   "file_extension": ".py",
   "mimetype": "text/x-python",
   "name": "python",
   "nbconvert_exporter": "python",
   "pygments_lexer": "ipython3",
   "version": "3.6.4"
  }
 },
 "nbformat": 4,
 "nbformat_minor": 2
}
